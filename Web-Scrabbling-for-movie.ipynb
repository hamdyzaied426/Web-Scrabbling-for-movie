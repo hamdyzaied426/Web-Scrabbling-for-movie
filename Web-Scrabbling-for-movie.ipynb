{
 "cells": [
  {
   "cell_type": "code",
   "execution_count": 1,
   "id": "426d2004",
   "metadata": {},
   "outputs": [],
   "source": [
    "from selenium import webdriver\n",
    "# by is a class in selenium \n",
    "from selenium.webdriver.common.by import By\n",
    "from selenium.common.exceptions import NoSuchElementException\n",
    "import time\n",
    "import pandas as pd"
   ]
  },
  {
   "cell_type": "code",
   "execution_count": 2,
   "id": "1cc0348a",
   "metadata": {},
   "outputs": [
    {
     "name": "stderr",
     "output_type": "stream",
     "text": [
      "The chromedriver version (119.0.6045.105) detected in PATH at C:\\Users\\user\\data_prepration\\chromedriver.exe might not be compatible with the detected chrome version (120.0.6099.130); currently, chromedriver 120.0.6099.109 is recommended for chrome 120.*, so it is advised to delete the driver in PATH and retry\n"
     ]
    }
   ],
   "source": [
    "driver=webdriver.Chrome()"
   ]
  },
  {
   "cell_type": "code",
   "execution_count": 3,
   "id": "6d8c3606",
   "metadata": {},
   "outputs": [],
   "source": [
    "path=\"https://www.boxofficemojo.com/chart/top_lifetime_gross/?area=XWW\"\n",
    "driver.get(path)\n",
    "   "
   ]
  },
  {
   "cell_type": "code",
   "execution_count": 4,
   "id": "88b97a0f",
   "metadata": {},
   "outputs": [],
   "source": [
    "time.sleep(10)"
   ]
  },
  {
   "cell_type": "code",
   "execution_count": 5,
   "id": "be81237d",
   "metadata": {},
   "outputs": [],
   "source": [
    "t_body=driver.find_element(By.XPATH,'//*[@id=\"table\"]/div/table[2]/tbody')"
   ]
  },
  {
   "cell_type": "code",
   "execution_count": 6,
   "id": "068aa359",
   "metadata": {},
   "outputs": [],
   "source": [
    "#for loading all data from table \n",
    "# data=[]\n",
    "\n",
    "# for tr in t_body.find_elements(By.XPATH,'//tr'):\n",
    "#     row=[ item.text for item in tr.find_elements(By.XPATH,'//td')]\n",
    "#     data.append(row)\n",
    "# print(data)\n",
    "    "
   ]
  },
  {
   "cell_type": "code",
   "execution_count": 7,
   "id": "303f38ce",
   "metadata": {},
   "outputs": [],
   "source": [
    "movie_names=[]\n",
    "movie_LifetimeGross=[]\n",
    "\n",
    "for i in range(2,202):\n",
    "    names_xpath = f\"//*[@id='table']/div/table[2]/tbody/tr[{str(i)}]/td[2]/a\"\n",
    "    title = driver.find_element(By.XPATH, names_xpath).text\n",
    "    \n",
    "    # XPath for lifetime gross\n",
    "    gross_xpath = f\"//*[@id='table']/div/table[2]/tbody/tr[{str(i)}]/td[3]\"\n",
    "    lifetime_gross = driver.find_element(By.XPATH, gross_xpath).text\n",
    "    movie_names.append(title)\n",
    "    movie_LifetimeGross.append(lifetime_gross)\n"
   ]
  },
  {
   "cell_type": "code",
   "execution_count": 8,
   "id": "acceb359",
   "metadata": {},
   "outputs": [
    {
     "data": {
      "text/plain": [
       "200"
      ]
     },
     "execution_count": 8,
     "metadata": {},
     "output_type": "execute_result"
    }
   ],
   "source": [
    "len(movie_names)"
   ]
  },
  {
   "cell_type": "code",
   "execution_count": 9,
   "id": "371a63f2",
   "metadata": {},
   "outputs": [
    {
     "data": {
      "text/plain": [
       "200"
      ]
     },
     "execution_count": 9,
     "metadata": {},
     "output_type": "execute_result"
    }
   ],
   "source": [
    "len(movie_LifetimeGross)"
   ]
  },
  {
   "cell_type": "code",
   "execution_count": 11,
   "id": "0d411c81",
   "metadata": {},
   "outputs": [],
   "source": [
    "data={\n",
    "    'movie_title':movie_names\n",
    "    ,'movie_Lifetime_Gross':movie_LifetimeGross\n",
    "}"
   ]
  },
  {
   "cell_type": "code",
   "execution_count": 12,
   "id": "da7b44ae",
   "metadata": {},
   "outputs": [],
   "source": [
    "df=pd.DataFrame(data)"
   ]
  },
  {
   "cell_type": "code",
   "execution_count": 13,
   "id": "7ced16ff",
   "metadata": {},
   "outputs": [
    {
     "data": {
      "text/html": [
       "<div>\n",
       "<style scoped>\n",
       "    .dataframe tbody tr th:only-of-type {\n",
       "        vertical-align: middle;\n",
       "    }\n",
       "\n",
       "    .dataframe tbody tr th {\n",
       "        vertical-align: top;\n",
       "    }\n",
       "\n",
       "    .dataframe thead th {\n",
       "        text-align: right;\n",
       "    }\n",
       "</style>\n",
       "<table border=\"1\" class=\"dataframe\">\n",
       "  <thead>\n",
       "    <tr style=\"text-align: right;\">\n",
       "      <th></th>\n",
       "      <th>movie_title</th>\n",
       "      <th>movie_Lifetime_Gross</th>\n",
       "    </tr>\n",
       "  </thead>\n",
       "  <tbody>\n",
       "    <tr>\n",
       "      <th>0</th>\n",
       "      <td>Avatar</td>\n",
       "      <td>$2,923,706,026</td>\n",
       "    </tr>\n",
       "    <tr>\n",
       "      <th>1</th>\n",
       "      <td>Avengers: Endgame</td>\n",
       "      <td>$2,799,439,100</td>\n",
       "    </tr>\n",
       "    <tr>\n",
       "      <th>2</th>\n",
       "      <td>Avatar: The Way of Water</td>\n",
       "      <td>$2,320,250,281</td>\n",
       "    </tr>\n",
       "    <tr>\n",
       "      <th>3</th>\n",
       "      <td>Titanic</td>\n",
       "      <td>$2,264,743,305</td>\n",
       "    </tr>\n",
       "    <tr>\n",
       "      <th>4</th>\n",
       "      <td>Star Wars: Episode VII - The Force Awakens</td>\n",
       "      <td>$2,071,310,218</td>\n",
       "    </tr>\n",
       "    <tr>\n",
       "      <th>...</th>\n",
       "      <td>...</td>\n",
       "      <td>...</td>\n",
       "    </tr>\n",
       "    <tr>\n",
       "      <th>195</th>\n",
       "      <td>The Little Mermaid</td>\n",
       "      <td>$569,626,289</td>\n",
       "    </tr>\n",
       "    <tr>\n",
       "      <th>196</th>\n",
       "      <td>Kong: Skull Island</td>\n",
       "      <td>$568,652,812</td>\n",
       "    </tr>\n",
       "    <tr>\n",
       "      <th>197</th>\n",
       "      <td>Mission: Impossible - Dead Reckoning Part One</td>\n",
       "      <td>$567,535,383</td>\n",
       "    </tr>\n",
       "    <tr>\n",
       "      <th>198</th>\n",
       "      <td>The Smurfs</td>\n",
       "      <td>$563,749,323</td>\n",
       "    </tr>\n",
       "    <tr>\n",
       "      <th>199</th>\n",
       "      <td>Cars 2</td>\n",
       "      <td>$559,852,396</td>\n",
       "    </tr>\n",
       "  </tbody>\n",
       "</table>\n",
       "<p>200 rows × 2 columns</p>\n",
       "</div>"
      ],
      "text/plain": [
       "                                       movie_title movie_Lifetime_Gross\n",
       "0                                           Avatar       $2,923,706,026\n",
       "1                                Avengers: Endgame       $2,799,439,100\n",
       "2                         Avatar: The Way of Water       $2,320,250,281\n",
       "3                                          Titanic       $2,264,743,305\n",
       "4       Star Wars: Episode VII - The Force Awakens       $2,071,310,218\n",
       "..                                             ...                  ...\n",
       "195                             The Little Mermaid         $569,626,289\n",
       "196                             Kong: Skull Island         $568,652,812\n",
       "197  Mission: Impossible - Dead Reckoning Part One         $567,535,383\n",
       "198                                     The Smurfs         $563,749,323\n",
       "199                                         Cars 2         $559,852,396\n",
       "\n",
       "[200 rows x 2 columns]"
      ]
     },
     "execution_count": 13,
     "metadata": {},
     "output_type": "execute_result"
    }
   ],
   "source": [
    "df"
   ]
  },
  {
   "cell_type": "code",
   "execution_count": 14,
   "id": "80f609bb",
   "metadata": {},
   "outputs": [],
   "source": [
    "df.to_csv(\"the top 200 movies with their lifetime collection and  release data.csv \")"
   ]
  },
  {
   "cell_type": "code",
   "execution_count": null,
   "id": "7d8ad998",
   "metadata": {},
   "outputs": [],
   "source": []
  }
 ],
 "metadata": {
  "kernelspec": {
   "display_name": "Python 3 (ipykernel)",
   "language": "python",
   "name": "python3"
  },
  "language_info": {
   "codemirror_mode": {
    "name": "ipython",
    "version": 3
   },
   "file_extension": ".py",
   "mimetype": "text/x-python",
   "name": "python",
   "nbconvert_exporter": "python",
   "pygments_lexer": "ipython3",
   "version": "3.11.5"
  }
 },
 "nbformat": 4,
 "nbformat_minor": 5
}
